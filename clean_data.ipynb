{
 "metadata": {
  "language_info": {
   "codemirror_mode": {
    "name": "ipython",
    "version": 3
   },
   "file_extension": ".py",
   "mimetype": "text/x-python",
   "name": "python",
   "nbconvert_exporter": "python",
   "pygments_lexer": "ipython3",
   "version": "3.6.10"
  },
  "orig_nbformat": 2,
  "kernelspec": {
   "name": "python3610jvsc74a57bd038f934b83c7878c7af716cf61b4a3e24bc3639c5744e081035f4202c89c484f1",
   "display_name": "Python 3.6.10 64-bit ('PythonData': conda)"
  }
 },
 "nbformat": 4,
 "nbformat_minor": 2,
 "cells": [
  {
   "cell_type": "code",
   "execution_count": 53,
   "metadata": {},
   "outputs": [
    {
     "output_type": "execute_result",
     "data": {
      "text/plain": [
       "       country_region_code country_region sub_region_1   sub_region_2  \\\n",
       "0                       US  United States          NaN            NaN   \n",
       "1                       US  United States          NaN            NaN   \n",
       "2                       US  United States          NaN            NaN   \n",
       "3                       US  United States          NaN            NaN   \n",
       "4                       US  United States          NaN            NaN   \n",
       "...                    ...            ...          ...            ...   \n",
       "812060                  US  United States      Wyoming  Weston County   \n",
       "812061                  US  United States      Wyoming  Weston County   \n",
       "812062                  US  United States      Wyoming  Weston County   \n",
       "812063                  US  United States      Wyoming  Weston County   \n",
       "812064                  US  United States      Wyoming  Weston County   \n",
       "\n",
       "        metro_area iso_3166_2_code  census_fips_code  \\\n",
       "0              NaN             NaN               NaN   \n",
       "1              NaN             NaN               NaN   \n",
       "2              NaN             NaN               NaN   \n",
       "3              NaN             NaN               NaN   \n",
       "4              NaN             NaN               NaN   \n",
       "...            ...             ...               ...   \n",
       "812060         NaN             NaN           56045.0   \n",
       "812061         NaN             NaN           56045.0   \n",
       "812062         NaN             NaN           56045.0   \n",
       "812063         NaN             NaN           56045.0   \n",
       "812064         NaN             NaN           56045.0   \n",
       "\n",
       "                           place_id        date  \\\n",
       "0       ChIJCzYy5IS16lQRQrfeQ5K5Oxw  2020-02-15   \n",
       "1       ChIJCzYy5IS16lQRQrfeQ5K5Oxw  2020-02-16   \n",
       "2       ChIJCzYy5IS16lQRQrfeQ5K5Oxw  2020-02-17   \n",
       "3       ChIJCzYy5IS16lQRQrfeQ5K5Oxw  2020-02-18   \n",
       "4       ChIJCzYy5IS16lQRQrfeQ5K5Oxw  2020-02-19   \n",
       "...                             ...         ...   \n",
       "812060  ChIJd4Rqhed3YocR7ubT5-HgoJg  2020-12-24   \n",
       "812061  ChIJd4Rqhed3YocR7ubT5-HgoJg  2020-12-28   \n",
       "812062  ChIJd4Rqhed3YocR7ubT5-HgoJg  2020-12-29   \n",
       "812063  ChIJd4Rqhed3YocR7ubT5-HgoJg  2020-12-30   \n",
       "812064  ChIJd4Rqhed3YocR7ubT5-HgoJg  2020-12-31   \n",
       "\n",
       "        retail_and_recreation_percent_change_from_baseline  \\\n",
       "0                                                     6.0    \n",
       "1                                                     7.0    \n",
       "2                                                     6.0    \n",
       "3                                                     0.0    \n",
       "4                                                     2.0    \n",
       "...                                                   ...    \n",
       "812060                                                NaN    \n",
       "812061                                                NaN    \n",
       "812062                                                NaN    \n",
       "812063                                                NaN    \n",
       "812064                                                NaN    \n",
       "\n",
       "        grocery_and_pharmacy_percent_change_from_baseline  \\\n",
       "0                                                     2.0   \n",
       "1                                                     1.0   \n",
       "2                                                     0.0   \n",
       "3                                                    -1.0   \n",
       "4                                                     0.0   \n",
       "...                                                   ...   \n",
       "812060                                                NaN   \n",
       "812061                                                NaN   \n",
       "812062                                                NaN   \n",
       "812063                                                NaN   \n",
       "812064                                                NaN   \n",
       "\n",
       "        parks_percent_change_from_baseline  \\\n",
       "0                                     15.0   \n",
       "1                                     16.0   \n",
       "2                                     28.0   \n",
       "3                                      6.0   \n",
       "4                                      8.0   \n",
       "...                                    ...   \n",
       "812060                                 NaN   \n",
       "812061                                 NaN   \n",
       "812062                                 NaN   \n",
       "812063                                 NaN   \n",
       "812064                                 NaN   \n",
       "\n",
       "        transit_stations_percent_change_from_baseline  \\\n",
       "0                                                 3.0   \n",
       "1                                                 2.0   \n",
       "2                                                -9.0   \n",
       "3                                                 1.0   \n",
       "4                                                 1.0   \n",
       "...                                               ...   \n",
       "812060                                            NaN   \n",
       "812061                                            NaN   \n",
       "812062                                            NaN   \n",
       "812063                                            NaN   \n",
       "812064                                            NaN   \n",
       "\n",
       "        workplaces_percent_change_from_baseline  \\\n",
       "0                                           2.0   \n",
       "1                                           0.0   \n",
       "2                                         -24.0   \n",
       "3                                           0.0   \n",
       "4                                           1.0   \n",
       "...                                         ...   \n",
       "812060                                    -56.0   \n",
       "812061                                    -40.0   \n",
       "812062                                    -43.0   \n",
       "812063                                    -40.0   \n",
       "812064                                    -38.0   \n",
       "\n",
       "        residential_percent_change_from_baseline  \n",
       "0                                           -1.0  \n",
       "1                                           -1.0  \n",
       "2                                            5.0  \n",
       "3                                            1.0  \n",
       "4                                            0.0  \n",
       "...                                          ...  \n",
       "812060                                       NaN  \n",
       "812061                                       NaN  \n",
       "812062                                       NaN  \n",
       "812063                                       NaN  \n",
       "812064                                       NaN  \n",
       "\n",
       "[812065 rows x 15 columns]"
      ],
      "text/html": "<div>\n<style scoped>\n    .dataframe tbody tr th:only-of-type {\n        vertical-align: middle;\n    }\n\n    .dataframe tbody tr th {\n        vertical-align: top;\n    }\n\n    .dataframe thead th {\n        text-align: right;\n    }\n</style>\n<table border=\"1\" class=\"dataframe\">\n  <thead>\n    <tr style=\"text-align: right;\">\n      <th></th>\n      <th>country_region_code</th>\n      <th>country_region</th>\n      <th>sub_region_1</th>\n      <th>sub_region_2</th>\n      <th>metro_area</th>\n      <th>iso_3166_2_code</th>\n      <th>census_fips_code</th>\n      <th>place_id</th>\n      <th>date</th>\n      <th>retail_and_recreation_percent_change_from_baseline</th>\n      <th>grocery_and_pharmacy_percent_change_from_baseline</th>\n      <th>parks_percent_change_from_baseline</th>\n      <th>transit_stations_percent_change_from_baseline</th>\n      <th>workplaces_percent_change_from_baseline</th>\n      <th>residential_percent_change_from_baseline</th>\n    </tr>\n  </thead>\n  <tbody>\n    <tr>\n      <th>0</th>\n      <td>US</td>\n      <td>United States</td>\n      <td>NaN</td>\n      <td>NaN</td>\n      <td>NaN</td>\n      <td>NaN</td>\n      <td>NaN</td>\n      <td>ChIJCzYy5IS16lQRQrfeQ5K5Oxw</td>\n      <td>2020-02-15</td>\n      <td>6.0</td>\n      <td>2.0</td>\n      <td>15.0</td>\n      <td>3.0</td>\n      <td>2.0</td>\n      <td>-1.0</td>\n    </tr>\n    <tr>\n      <th>1</th>\n      <td>US</td>\n      <td>United States</td>\n      <td>NaN</td>\n      <td>NaN</td>\n      <td>NaN</td>\n      <td>NaN</td>\n      <td>NaN</td>\n      <td>ChIJCzYy5IS16lQRQrfeQ5K5Oxw</td>\n      <td>2020-02-16</td>\n      <td>7.0</td>\n      <td>1.0</td>\n      <td>16.0</td>\n      <td>2.0</td>\n      <td>0.0</td>\n      <td>-1.0</td>\n    </tr>\n    <tr>\n      <th>2</th>\n      <td>US</td>\n      <td>United States</td>\n      <td>NaN</td>\n      <td>NaN</td>\n      <td>NaN</td>\n      <td>NaN</td>\n      <td>NaN</td>\n      <td>ChIJCzYy5IS16lQRQrfeQ5K5Oxw</td>\n      <td>2020-02-17</td>\n      <td>6.0</td>\n      <td>0.0</td>\n      <td>28.0</td>\n      <td>-9.0</td>\n      <td>-24.0</td>\n      <td>5.0</td>\n    </tr>\n    <tr>\n      <th>3</th>\n      <td>US</td>\n      <td>United States</td>\n      <td>NaN</td>\n      <td>NaN</td>\n      <td>NaN</td>\n      <td>NaN</td>\n      <td>NaN</td>\n      <td>ChIJCzYy5IS16lQRQrfeQ5K5Oxw</td>\n      <td>2020-02-18</td>\n      <td>0.0</td>\n      <td>-1.0</td>\n      <td>6.0</td>\n      <td>1.0</td>\n      <td>0.0</td>\n      <td>1.0</td>\n    </tr>\n    <tr>\n      <th>4</th>\n      <td>US</td>\n      <td>United States</td>\n      <td>NaN</td>\n      <td>NaN</td>\n      <td>NaN</td>\n      <td>NaN</td>\n      <td>NaN</td>\n      <td>ChIJCzYy5IS16lQRQrfeQ5K5Oxw</td>\n      <td>2020-02-19</td>\n      <td>2.0</td>\n      <td>0.0</td>\n      <td>8.0</td>\n      <td>1.0</td>\n      <td>1.0</td>\n      <td>0.0</td>\n    </tr>\n    <tr>\n      <th>...</th>\n      <td>...</td>\n      <td>...</td>\n      <td>...</td>\n      <td>...</td>\n      <td>...</td>\n      <td>...</td>\n      <td>...</td>\n      <td>...</td>\n      <td>...</td>\n      <td>...</td>\n      <td>...</td>\n      <td>...</td>\n      <td>...</td>\n      <td>...</td>\n      <td>...</td>\n    </tr>\n    <tr>\n      <th>812060</th>\n      <td>US</td>\n      <td>United States</td>\n      <td>Wyoming</td>\n      <td>Weston County</td>\n      <td>NaN</td>\n      <td>NaN</td>\n      <td>56045.0</td>\n      <td>ChIJd4Rqhed3YocR7ubT5-HgoJg</td>\n      <td>2020-12-24</td>\n      <td>NaN</td>\n      <td>NaN</td>\n      <td>NaN</td>\n      <td>NaN</td>\n      <td>-56.0</td>\n      <td>NaN</td>\n    </tr>\n    <tr>\n      <th>812061</th>\n      <td>US</td>\n      <td>United States</td>\n      <td>Wyoming</td>\n      <td>Weston County</td>\n      <td>NaN</td>\n      <td>NaN</td>\n      <td>56045.0</td>\n      <td>ChIJd4Rqhed3YocR7ubT5-HgoJg</td>\n      <td>2020-12-28</td>\n      <td>NaN</td>\n      <td>NaN</td>\n      <td>NaN</td>\n      <td>NaN</td>\n      <td>-40.0</td>\n      <td>NaN</td>\n    </tr>\n    <tr>\n      <th>812062</th>\n      <td>US</td>\n      <td>United States</td>\n      <td>Wyoming</td>\n      <td>Weston County</td>\n      <td>NaN</td>\n      <td>NaN</td>\n      <td>56045.0</td>\n      <td>ChIJd4Rqhed3YocR7ubT5-HgoJg</td>\n      <td>2020-12-29</td>\n      <td>NaN</td>\n      <td>NaN</td>\n      <td>NaN</td>\n      <td>NaN</td>\n      <td>-43.0</td>\n      <td>NaN</td>\n    </tr>\n    <tr>\n      <th>812063</th>\n      <td>US</td>\n      <td>United States</td>\n      <td>Wyoming</td>\n      <td>Weston County</td>\n      <td>NaN</td>\n      <td>NaN</td>\n      <td>56045.0</td>\n      <td>ChIJd4Rqhed3YocR7ubT5-HgoJg</td>\n      <td>2020-12-30</td>\n      <td>NaN</td>\n      <td>NaN</td>\n      <td>NaN</td>\n      <td>NaN</td>\n      <td>-40.0</td>\n      <td>NaN</td>\n    </tr>\n    <tr>\n      <th>812064</th>\n      <td>US</td>\n      <td>United States</td>\n      <td>Wyoming</td>\n      <td>Weston County</td>\n      <td>NaN</td>\n      <td>NaN</td>\n      <td>56045.0</td>\n      <td>ChIJd4Rqhed3YocR7ubT5-HgoJg</td>\n      <td>2020-12-31</td>\n      <td>NaN</td>\n      <td>NaN</td>\n      <td>NaN</td>\n      <td>NaN</td>\n      <td>-38.0</td>\n      <td>NaN</td>\n    </tr>\n  </tbody>\n</table>\n<p>812065 rows × 15 columns</p>\n</div>"
     },
     "metadata": {},
     "execution_count": 53
    }
   ],
   "source": [
    "import pandas as pd \n",
    "import matplotlib.pyplot as plt\n",
    "import scipy.stats as st\n",
    "import numpy as np\n",
    "\n",
    "df1 = pd.read_csv('data/2020_US_Region_Mobility_Report.csv')\n",
    "df2 = pd.read_csv('data/2021_US_Region_Mobility_Report.csv')\n",
    "df1"
   ]
  },
  {
   "cell_type": "code",
   "execution_count": 54,
   "metadata": {},
   "outputs": [],
   "source": [
    "places_df = pd.concat([df1,df2])\n"
   ]
  },
  {
   "cell_type": "code",
   "execution_count": 55,
   "metadata": {},
   "outputs": [],
   "source": [
    "columns = ['census_fips_code', 'iso_3166_2_code', 'metro_area', 'place_id', 'country_region', 'country_region_code']\n",
    "places_df.drop(columns=columns, inplace=True)\n",
    "places_df.to_csv('data/clean_mobility_data.csv')\n"
   ]
  },
  {
   "cell_type": "code",
   "execution_count": 45,
   "metadata": {},
   "outputs": [
    {
     "output_type": "execute_result",
     "data": {
      "text/plain": [
       "1111368"
      ]
     },
     "metadata": {},
     "execution_count": 45
    }
   ],
   "source": []
  },
  {
   "cell_type": "code",
   "execution_count": null,
   "metadata": {},
   "outputs": [],
   "source": []
  }
 ]
}
